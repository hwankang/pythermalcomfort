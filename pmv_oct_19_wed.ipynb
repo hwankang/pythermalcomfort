{
  "nbformat": 4,
  "nbformat_minor": 0,
  "metadata": {
    "colab": {
      "private_outputs": true,
      "provenance": [],
      "authorship_tag": "ABX9TyPB7CC13bALTLZ3xZ/7TMLD",
      "include_colab_link": true
    },
    "kernelspec": {
      "name": "python3",
      "display_name": "Python 3"
    },
    "language_info": {
      "name": "python"
    }
  },
  "cells": [
    {
      "cell_type": "markdown",
      "metadata": {
        "id": "view-in-github",
        "colab_type": "text"
      },
      "source": [
        "<a href=\"https://colab.research.google.com/github/hwankang/pythermalcomfort/blob/master/pmv_oct_19_wed.ipynb\" target=\"_parent\"><img src=\"https://colab.research.google.com/assets/colab-badge.svg\" alt=\"Open In Colab\"/></a>"
      ]
    },
    {
      "cell_type": "code",
      "execution_count": null,
      "metadata": {
        "id": "mCGyepIi4cbM"
      },
      "outputs": [],
      "source": [
        "!wget https://github.com/hwankang/pythermalcomfort"
      ]
    },
    {
      "cell_type": "code",
      "source": [
        "!pip install pythermalcomfort"
      ],
      "metadata": {
        "id": "BMPrtiBj4xiE"
      },
      "execution_count": null,
      "outputs": []
    },
    {
      "cell_type": "code",
      "source": [
        "from pythermalcomfort.models import pmv_ppd"
      ],
      "metadata": {
        "id": "4Q7nOZCp4-i6"
      },
      "execution_count": null,
      "outputs": []
    },
    {
      "cell_type": "code",
      "source": [
        "results=pmv_ppd(tdb=27, tr=27, vr=0.1,rh=50,met=1.1, clo=0.5, standard=\"ASHRAE\")"
      ],
      "metadata": {
        "id": "ZfVyc1yx6HVS"
      },
      "execution_count": null,
      "outputs": []
    },
    {
      "cell_type": "code",
      "source": [
        "array=[27, 29, 31,33, 35]\n",
        "arr=[]\n",
        "for i in range(5):\n",
        "    re=pmv_ppd(array[i], tr=27, vr=0.1,rh=50,met=1.1, clo=0.5, standard=\"ASHRAE\")\n",
        "    arr.append(re)\n",
        "arr"
      ],
      "metadata": {
        "id": "0AmwQ49Z6ysC"
      },
      "execution_count": null,
      "outputs": []
    },
    {
      "cell_type": "code",
      "source": [
        "out=[]\n",
        "for i in range(5):\n",
        "    ou=arr[i]['pmv']\n",
        "    out.append(ou)\n",
        "out"
      ],
      "metadata": {
        "id": "Ff65Pp-m7kH2"
      },
      "execution_count": null,
      "outputs": []
    },
    {
      "cell_type": "code",
      "source": [
        "import matplotlib.pyplot as plt\n",
        "plt.plot(array, out, marker='o',color='red')\n",
        "plt.xlabel(\"temperature\")\n",
        "plt.ylabel(\"PMV\")\n",
        "plt.title(\"PMV vs Temperature\")"
      ],
      "metadata": {
        "id": "woAFpWsN7YeY"
      },
      "execution_count": null,
      "outputs": []
    },
    {
      "cell_type": "code",
      "source": [
        "array=[27, 29, 31,33, 35]\n",
        "arr2=[]\n",
        "for i in range(5):\n",
        "    re=pmv_ppd(array[i], tr=27, vr=0.1,rh=80,met=1.1, clo=0.5, standard=\"ASHRAE\")\n",
        "    arr2.append(re)\n",
        "arr2"
      ],
      "metadata": {
        "id": "q5bl0y1O8e2Q"
      },
      "execution_count": null,
      "outputs": []
    },
    {
      "cell_type": "code",
      "source": [
        "out2=[]\n",
        "for i in range(5):\n",
        "    ou2=arr2[i]['pmv']\n",
        "    out2.append(ou2)\n",
        "out2"
      ],
      "metadata": {
        "id": "NXJXcci48ned"
      },
      "execution_count": null,
      "outputs": []
    },
    {
      "cell_type": "code",
      "source": [
        "import matplotlib.pyplot as plt\n",
        "plt.plot(array, out, marker='o',color='red',label='humidity=50')\n",
        "plt.plot(array, out2, marker='x',color='blue',label='humidity=80')\n",
        "plt.xlabel(\"temperature\")\n",
        "plt.ylabel(\"PMV\")\n",
        "plt.title(\"PMV vs Temperature\")\n",
        "plt.legend(loc=(0.2, 0.75),ncol=1)"
      ],
      "metadata": {
        "id": "52RiN2im8ub4"
      },
      "execution_count": null,
      "outputs": []
    }
  ]
}